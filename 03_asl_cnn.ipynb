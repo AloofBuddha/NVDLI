{
  "nbformat": 4,
  "nbformat_minor": 0,
  "metadata": {
    "colab": {
      "provenance": []
    },
    "kernelspec": {
      "name": "python3",
      "display_name": "Python 3"
    },
    "language_info": {
      "name": "python"
    }
  },
  "cells": [
    {
      "cell_type": "code",
      "execution_count": null,
      "metadata": {
        "id": "_XqYxPyK21bj"
      },
      "outputs": [],
      "source": [
        "import tensorflow.keras as keras\n",
        "import pandas as pd\n",
        "\n",
        "train_df = pd.read_csv(\"data/asl_data/sign_mnist_train.csv\")\n",
        "valid_df = pd.read_csv(\"data/asl_data/sign_mnist_valid.csv\")\n",
        "\n",
        "# Separate out our target values\n",
        "\n",
        "y_train = train_df['label']\n",
        "y_valid = valid_df['label']\n",
        "del train_df['label']\n",
        "del valid_df['label']\n",
        "\n",
        "# Separate our image vectors\n",
        "x_train = train_df.values\n",
        "x_valid = valid_df.values\n",
        "\n",
        "num_classes =24\n",
        "y_train = keras.utils.to_categorical(y_train, num_classes)\n",
        "y_valid = keras.utils.to_categorical(y_valid, num_classes)\n",
        "\n",
        "x_train = x_train / 255\n",
        "x_valid = x_valid / 255"
      ]
    },
    {
      "cell_type": "code",
      "source": [
        "x_train.shape, x_valid.shape"
      ],
      "metadata": {
        "colab": {
          "base_uri": "https://localhost:8080/"
        },
        "id": "-71-ON7Z4bRZ",
        "outputId": "e9eff825-8b26-4243-e439-c83ff43a633a"
      },
      "execution_count": null,
      "outputs": [
        {
          "output_type": "execute_result",
          "data": {
            "text/plain": [
              "((27455, 784), (7172, 784))"
            ]
          },
          "metadata": {},
          "execution_count": 3
        }
      ]
    },
    {
      "cell_type": "code",
      "source": [
        "x_train = x_train.reshape(-1, 28, 28, 1)\n",
        "x_valid = x_valid.reshape(-1, 28, 28, 1)"
      ],
      "metadata": {
        "id": "VhcuJoh64jgg"
      },
      "execution_count": null,
      "outputs": []
    },
    {
      "cell_type": "code",
      "source": [
        "x_train.shape"
      ],
      "metadata": {
        "colab": {
          "base_uri": "https://localhost:8080/"
        },
        "id": "95NfjiEt4xZs",
        "outputId": "d87bbf37-7d2c-479a-94aa-e5b4849f105b"
      },
      "execution_count": null,
      "outputs": [
        {
          "output_type": "execute_result",
          "data": {
            "text/plain": [
              "(27455, 28, 28, 1)"
            ]
          },
          "metadata": {},
          "execution_count": 5
        }
      ]
    },
    {
      "cell_type": "code",
      "source": [
        "x_valid.shape"
      ],
      "metadata": {
        "colab": {
          "base_uri": "https://localhost:8080/"
        },
        "id": "z_dsBob14yFY",
        "outputId": "e86f5643-0622-416e-d9be-3ecfc575f0d1"
      },
      "execution_count": null,
      "outputs": [
        {
          "output_type": "execute_result",
          "data": {
            "text/plain": [
              "(7172, 28, 28, 1)"
            ]
          },
          "metadata": {},
          "execution_count": 6
        }
      ]
    },
    {
      "cell_type": "code",
      "source": [
        "from tensorflow.keras.models import Sequential\n",
        "from tensorflow.keras.layers import (\n",
        "    Dense,\n",
        "    Conv2D,\n",
        "    MaxPool2D,\n",
        "    Flatten,\n",
        "    Dropout,\n",
        "    BatchNormalization,\n",
        ")\n",
        "model = Sequential()\n",
        "model.add(Conv2D(75, (3,3), strides=1, padding=\"same\", activation=\"relu\", input_shape=(28,28,1)))\n",
        "model.add(BatchNormalization())\n",
        "model.add(MaxPool2D((2,2), strides=2, padding=\"same\"))\n",
        "model.add(Conv2D(50, (3,3), strides=1, padding=\"same\", activation = \"relu\"))\n",
        "model.add(Dropout(0.2))\n",
        "model.add(BatchNormalization())\n",
        "model.add(MaxPool2D((2,2), strides=2, padding=\"same\"))\n",
        "model.add(Conv2D(25, (3,3), strides=1, padding=\"same\", activation=\"relu\"))\n",
        "model.add(BatchNormalization())\n",
        "model.add(MaxPool2D((2,2), strides=2, padding=\"same\"))\n",
        "model.add(Flatten())\n",
        "model.add(Dense(units=512, activation=\"relu\"))\n",
        "model.add(Dropout(0.3))\n",
        "model.add(Dense(units=num_classes, activation=\"softmax\"))\n",
        "\n"
      ],
      "metadata": {
        "id": "WB8rEQwV4yzN"
      },
      "execution_count": null,
      "outputs": []
    },
    {
      "cell_type": "code",
      "source": [
        "model.summary()"
      ],
      "metadata": {
        "colab": {
          "base_uri": "https://localhost:8080/"
        },
        "id": "m0fYNSvG6X8N",
        "outputId": "4d2b67f2-6184-4ffd-e94c-1ad74f76983e"
      },
      "execution_count": null,
      "outputs": [
        {
          "output_type": "stream",
          "name": "stdout",
          "text": [
            "Model: \"sequential_2\"\n",
            "_________________________________________________________________\n",
            " Layer (type)                Output Shape              Param #   \n",
            "=================================================================\n",
            " conv2d_2 (Conv2D)           (None, 28, 28, 75)        750       \n",
            "                                                                 \n",
            " batch_normalization_2 (Bat  (None, 28, 28, 75)        300       \n",
            " chNormalization)                                                \n",
            "                                                                 \n",
            " max_pooling2d_2 (MaxPoolin  (None, 14, 14, 75)        0         \n",
            " g2D)                                                            \n",
            "                                                                 \n",
            " conv2d_3 (Conv2D)           (None, 14, 14, 50)        33800     \n",
            "                                                                 \n",
            " dropout (Dropout)           (None, 14, 14, 50)        0         \n",
            "                                                                 \n",
            " batch_normalization_3 (Bat  (None, 14, 14, 50)        200       \n",
            " chNormalization)                                                \n",
            "                                                                 \n",
            " max_pooling2d_3 (MaxPoolin  (None, 7, 7, 50)          0         \n",
            " g2D)                                                            \n",
            "                                                                 \n",
            " conv2d_4 (Conv2D)           (None, 7, 7, 25)          11275     \n",
            "                                                                 \n",
            " batch_normalization_4 (Bat  (None, 7, 7, 25)          100       \n",
            " chNormalization)                                                \n",
            "                                                                 \n",
            " max_pooling2d_4 (MaxPoolin  (None, 4, 4, 25)          0         \n",
            " g2D)                                                            \n",
            "                                                                 \n",
            " flatten (Flatten)           (None, 400)               0         \n",
            "                                                                 \n",
            " dense (Dense)               (None, 512)               205312    \n",
            "                                                                 \n",
            " dropout_1 (Dropout)         (None, 512)               0         \n",
            "                                                                 \n",
            " dense_1 (Dense)             (None, 24)                12312     \n",
            "                                                                 \n",
            "=================================================================\n",
            "Total params: 264049 (1.01 MB)\n",
            "Trainable params: 263749 (1.01 MB)\n",
            "Non-trainable params: 300 (1.17 KB)\n",
            "_________________________________________________________________\n"
          ]
        }
      ]
    },
    {
      "cell_type": "code",
      "source": [
        "model.compile(loss=\"categorical_crossentropy\", metrics=[\"accuracy\"])"
      ],
      "metadata": {
        "id": "-lGt9ANp6vSX"
      },
      "execution_count": null,
      "outputs": []
    },
    {
      "cell_type": "code",
      "source": [
        "model.fit(\n",
        "    x_train, y_train, epochs=20, verbose=1, validation_data=(x_valid, y_valid)\n",
        ")"
      ],
      "metadata": {
        "colab": {
          "base_uri": "https://localhost:8080/"
        },
        "id": "6y6f7tt762Ce",
        "outputId": "ab833c63-ddc0-4701-c312-5769731cf20b"
      },
      "execution_count": null,
      "outputs": [
        {
          "output_type": "stream",
          "name": "stdout",
          "text": [
            "Epoch 1/20\n",
            "858/858 [==============================] - 106s 122ms/step - loss: 0.3035 - accuracy: 0.9064 - val_loss: 0.4581 - val_accuracy: 0.8670\n",
            "Epoch 2/20\n",
            "858/858 [==============================] - 99s 116ms/step - loss: 0.0216 - accuracy: 0.9930 - val_loss: 0.4445 - val_accuracy: 0.8749\n",
            "Epoch 3/20\n",
            "858/858 [==============================] - 104s 121ms/step - loss: 0.0097 - accuracy: 0.9968 - val_loss: 0.0954 - val_accuracy: 0.9690\n",
            "Epoch 4/20\n",
            "858/858 [==============================] - 99s 115ms/step - loss: 0.0054 - accuracy: 0.9987 - val_loss: 0.1821 - val_accuracy: 0.9533\n",
            "Epoch 5/20\n",
            "858/858 [==============================] - 99s 115ms/step - loss: 0.0040 - accuracy: 0.9986 - val_loss: 0.1347 - val_accuracy: 0.9643\n",
            "Epoch 6/20\n",
            "858/858 [==============================] - 100s 116ms/step - loss: 0.0017 - accuracy: 0.9995 - val_loss: 0.1250 - val_accuracy: 0.9696\n",
            "Epoch 7/20\n",
            "858/858 [==============================] - 103s 120ms/step - loss: 0.0018 - accuracy: 0.9996 - val_loss: 0.2014 - val_accuracy: 0.9587\n",
            "Epoch 8/20\n",
            "858/858 [==============================] - 101s 117ms/step - loss: 0.0017 - accuracy: 0.9994 - val_loss: 0.1721 - val_accuracy: 0.9519\n",
            "Epoch 9/20\n",
            "858/858 [==============================] - 98s 115ms/step - loss: 0.0012 - accuracy: 0.9997 - val_loss: 0.1426 - val_accuracy: 0.9653\n",
            "Epoch 10/20\n",
            "858/858 [==============================] - 102s 119ms/step - loss: 7.1278e-04 - accuracy: 0.9997 - val_loss: 0.0916 - val_accuracy: 0.9801\n",
            "Epoch 11/20\n",
            "858/858 [==============================] - 98s 114ms/step - loss: 7.6492e-04 - accuracy: 0.9997 - val_loss: 0.0777 - val_accuracy: 0.9739\n",
            "Epoch 12/20\n",
            "858/858 [==============================] - 97s 113ms/step - loss: 4.4367e-05 - accuracy: 1.0000 - val_loss: 0.1563 - val_accuracy: 0.9702\n",
            "Epoch 13/20\n",
            "858/858 [==============================] - 97s 113ms/step - loss: 8.2084e-04 - accuracy: 0.9997 - val_loss: 0.1939 - val_accuracy: 0.9545\n",
            "Epoch 14/20\n",
            "858/858 [==============================] - 102s 119ms/step - loss: 2.3321e-04 - accuracy: 0.9999 - val_loss: 0.1151 - val_accuracy: 0.9636\n",
            "Epoch 15/20\n",
            "858/858 [==============================] - 102s 119ms/step - loss: 3.7279e-05 - accuracy: 1.0000 - val_loss: 0.2000 - val_accuracy: 0.9495\n",
            "Epoch 16/20\n",
            "858/858 [==============================] - 102s 119ms/step - loss: 5.0724e-04 - accuracy: 0.9998 - val_loss: 0.1543 - val_accuracy: 0.9582\n",
            "Epoch 17/20\n",
            "858/858 [==============================] - 102s 119ms/step - loss: 4.1315e-04 - accuracy: 0.9998 - val_loss: 0.1262 - val_accuracy: 0.9714\n",
            "Epoch 18/20\n",
            "858/858 [==============================] - 97s 113ms/step - loss: 2.4686e-04 - accuracy: 1.0000 - val_loss: 0.0816 - val_accuracy: 0.9796\n",
            "Epoch 19/20\n",
            "858/858 [==============================] - 96s 111ms/step - loss: 3.3081e-04 - accuracy: 0.9999 - val_loss: 0.1155 - val_accuracy: 0.9741\n",
            "Epoch 20/20\n",
            "858/858 [==============================] - 95s 111ms/step - loss: 8.1122e-05 - accuracy: 1.0000 - val_loss: 0.1409 - val_accuracy: 0.9628\n"
          ]
        },
        {
          "output_type": "execute_result",
          "data": {
            "text/plain": [
              "<keras.src.callbacks.History at 0x7d2e897871f0>"
            ]
          },
          "metadata": {},
          "execution_count": 12
        }
      ]
    },
    {
      "cell_type": "code",
      "source": [],
      "metadata": {
        "id": "ky91tk9869t-"
      },
      "execution_count": null,
      "outputs": []
    }
  ]
}